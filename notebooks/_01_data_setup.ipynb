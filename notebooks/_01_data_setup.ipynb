{
 "cells": [
  {
   "cell_type": "code",
   "execution_count": 1,
   "metadata": {},
   "outputs": [
    {
     "name": "stdout",
     "output_type": "stream",
     "text": [
      "repository_root_directory:\t c:\\Users\\cengl\\Documents\\CSC 461\\code\\csc_461_fp\n",
      "repository_root_directory:\t added to path\n"
     ]
    }
   ],
   "source": [
    "import sys\n",
    "import os\n",
    "\n",
    "repository_root_directory = os.path.dirname(os.getcwd())\n",
    "rrd = \"repository_root_directory:\\t\"\n",
    "print(rrd, repository_root_directory)\n",
    "\n",
    "if repository_root_directory not in sys.path:\n",
    "    sys.path.append(repository_root_directory)\n",
    "    print(rrd, \"added to path\")\n",
    "else:  \n",
    "    print(rrd, \"already in path\")\n",
    "\n",
    "from data_setup import DataSetup\n",
    "from utils import get_directory_size"
   ]
  },
  {
   "cell_type": "code",
   "execution_count": 2,
   "metadata": {},
   "outputs": [
    {
     "name": "stdout",
     "output_type": "stream",
     "text": [
      "Downloading from https://www.kaggle.com/api/v1/datasets/download/carlthome/gtzan-genre-collection?dataset_version_number=1...\n"
     ]
    },
    {
     "name": "stderr",
     "output_type": "stream",
     "text": [
      "100%|██████████| 1.14G/1.14G [02:10<00:00, 9.41MB/s]"
     ]
    },
    {
     "name": "stdout",
     "output_type": "stream",
     "text": [
      "Extracting files...\n"
     ]
    },
    {
     "name": "stderr",
     "output_type": "stream",
     "text": [
      "\n"
     ]
    },
    {
     "name": "stdout",
     "output_type": "stream",
     "text": [
      "Path to downloaded dataset files: C:\\Users\\cengl\\.cache\\kagglehub\\datasets\\carlthome\\gtzan-genre-collection\\versions\\1\n",
      "size:  1324105955\n"
     ]
    }
   ],
   "source": [
    "data_setup = DataSetup()\n",
    "dataset_name = \"carlthome/gtzan-genre-collection\"\n",
    "path_to_downloaded_dataset = data_setup.download_data(dataset_name)\n",
    "print(\"Path to downloaded dataset files:\", path_to_downloaded_dataset)\n",
    "print(\"size: \", get_directory_size(path_to_downloaded_dataset))\n",
    "# find / -type d -name \"genres\" 2>/dev/null"
   ]
  },
  {
   "cell_type": "code",
   "execution_count": 3,
   "metadata": {},
   "outputs": [
    {
     "name": "stdout",
     "output_type": "stream",
     "text": [
      "Data moved successfully :)\n"
     ]
    }
   ],
   "source": [
    "# copy the dataset in the repository to the data folder, if necessary\n",
    "destination = os.path.join(repository_root_directory, \"_01_data\")\n",
    "data_setup.move_data(path_to_downloaded_dataset, destination)"
   ]
  }
 ],
 "metadata": {
  "kernelspec": {
   "display_name": "base",
   "language": "python",
   "name": "python3"
  },
  "language_info": {
   "codemirror_mode": {
    "name": "ipython",
    "version": 3
   },
   "file_extension": ".py",
   "mimetype": "text/x-python",
   "name": "python",
   "nbconvert_exporter": "python",
   "pygments_lexer": "ipython3",
   "version": "3.12.7"
  }
 },
 "nbformat": 4,
 "nbformat_minor": 2
}
