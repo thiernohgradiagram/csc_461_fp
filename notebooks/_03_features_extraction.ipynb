{
 "cells": [
  {
   "cell_type": "code",
   "execution_count": 1,
   "metadata": {},
   "outputs": [
    {
     "name": "stdout",
     "output_type": "stream",
     "text": [
      "repository_root_directory:\t c:\\Users\\cengl\\Documents\\CSC 461\\New code\\csc_461_fp-main USE THIS ONE\\csc_461_fp-main\n",
      "repository_root_directory:\t added to path\n"
     ]
    }
   ],
   "source": [
    "import sys\n",
    "import os\n",
    "\n",
    "repository_root_directory = os.path.dirname(os.getcwd())\n",
    "rrd = \"repository_root_directory:\\t\"\n",
    "print(rrd, repository_root_directory)\n",
    "\n",
    "if repository_root_directory not in sys.path:\n",
    "    sys.path.append(repository_root_directory)\n",
    "    print(rrd, \"added to path\")\n",
    "else:  \n",
    "    print(rrd, \"already in path\")\n",
    "\n",
    "import numpy as np\n",
    "from features_extractor import FeaturesExtractor\n",
    "import pandas as pd"
   ]
  },
  {
   "cell_type": "code",
   "execution_count": 2,
   "metadata": {},
   "outputs": [
    {
     "name": "stdout",
     "output_type": "stream",
     "text": [
      "(1000, 207)\n"
     ]
    }
   ],
   "source": [
    "preprocessed_dataset = \"../_02_data_preprocessed\"\n",
    "extractor = FeaturesExtractor()\n",
    "features_data = extractor.extract_features_all_files(preprocessed_dataset)\n",
    "print(features_data.shape)\n"
   ]
  },
  {
   "cell_type": "code",
   "execution_count": 10,
   "metadata": {},
   "outputs": [
    {
     "name": "stdout",
     "output_type": "stream",
     "text": [
      "207\n",
      "['RMS', 'ZCR', 'Spectral_Centroid', 'Spectral_Bandwidth', 'Spectral_Rolloff', 'Spectral_Contrast_1', 'Spectral_Contrast_2', 'Spectral_Contrast_3', 'Spectral_Contrast_4', 'Spectral_Contrast_5', 'Spectral_Contrast_6', 'Spectral_Contrast_7', 'Spectral_Flatness', 'Harmonic_Energy', 'Percussive_Energy', 'Spectral_Centroid_Skewness', 'RMS_Harmonic', 'Silence_Ratio', 'MFCC_1_Mean', 'MFCC_2_Mean', 'MFCC_3_Mean', 'MFCC_4_Mean', 'MFCC_5_Mean', 'MFCC_6_Mean', 'MFCC_7_Mean', 'MFCC_8_Mean', 'MFCC_9_Mean', 'MFCC_10_Mean', 'MFCC_11_Mean', 'MFCC_12_Mean', 'MFCC_13_Mean', 'Delta_MFCC_1', 'Delta_MFCC_2', 'Delta_MFCC_3', 'Delta_MFCC_4', 'Delta_MFCC_5', 'Delta_MFCC_6', 'Delta_MFCC_7', 'Delta_MFCC_8', 'Delta_MFCC_9', 'Delta_MFCC_10', 'Delta_MFCC_11', 'Delta_MFCC_12', 'Delta_MFCC_13', 'Delta2_MFCC_1', 'Delta2_MFCC_2', 'Delta2_MFCC_3', 'Delta2_MFCC_4', 'Delta2_MFCC_5', 'Delta2_MFCC_6', 'Delta2_MFCC_7', 'Delta2_MFCC_8', 'Delta2_MFCC_9', 'Delta2_MFCC_10', 'Delta2_MFCC_11', 'Delta2_MFCC_12', 'Delta2_MFCC_13', 'Chroma_1', 'Chroma_2', 'Chroma_3', 'Chroma_4', 'Chroma_5', 'Chroma_6', 'Chroma_7', 'Chroma_8', 'Chroma_9', 'Chroma_10', 'Chroma_11', 'Chroma_12', 'Tempo', 'Tonnetz_1', 'Tonnetz_2', 'Tonnetz_3', 'Tonnetz_4', 'Tonnetz_5', 'Tonnetz_6', 'Mel_Spec_1', 'Mel_Spec_2', 'Mel_Spec_3', 'Mel_Spec_4', 'Mel_Spec_5', 'Mel_Spec_6', 'Mel_Spec_7', 'Mel_Spec_8', 'Mel_Spec_9', 'Mel_Spec_10', 'Mel_Spec_11', 'Mel_Spec_12', 'Mel_Spec_13', 'Mel_Spec_14', 'Mel_Spec_15', 'Mel_Spec_16', 'Mel_Spec_17', 'Mel_Spec_18', 'Mel_Spec_19', 'Mel_Spec_20', 'Mel_Spec_21', 'Mel_Spec_22', 'Mel_Spec_23', 'Mel_Spec_24', 'Mel_Spec_25', 'Mel_Spec_26', 'Mel_Spec_27', 'Mel_Spec_28', 'Mel_Spec_29', 'Mel_Spec_30', 'Mel_Spec_31', 'Mel_Spec_32', 'Mel_Spec_33', 'Mel_Spec_34', 'Mel_Spec_35', 'Mel_Spec_36', 'Mel_Spec_37', 'Mel_Spec_38', 'Mel_Spec_39', 'Mel_Spec_40', 'Mel_Spec_41', 'Mel_Spec_42', 'Mel_Spec_43', 'Mel_Spec_44', 'Mel_Spec_45', 'Mel_Spec_46', 'Mel_Spec_47', 'Mel_Spec_48', 'Mel_Spec_49', 'Mel_Spec_50', 'Mel_Spec_51', 'Mel_Spec_52', 'Mel_Spec_53', 'Mel_Spec_54', 'Mel_Spec_55', 'Mel_Spec_56', 'Mel_Spec_57', 'Mel_Spec_58', 'Mel_Spec_59', 'Mel_Spec_60', 'Mel_Spec_61', 'Mel_Spec_62', 'Mel_Spec_63', 'Mel_Spec_64', 'Mel_Spec_65', 'Mel_Spec_66', 'Mel_Spec_67', 'Mel_Spec_68', 'Mel_Spec_69', 'Mel_Spec_70', 'Mel_Spec_71', 'Mel_Spec_72', 'Mel_Spec_73', 'Mel_Spec_74', 'Mel_Spec_75', 'Mel_Spec_76', 'Mel_Spec_77', 'Mel_Spec_78', 'Mel_Spec_79', 'Mel_Spec_80', 'Mel_Spec_81', 'Mel_Spec_82', 'Mel_Spec_83', 'Mel_Spec_84', 'Mel_Spec_85', 'Mel_Spec_86', 'Mel_Spec_87', 'Mel_Spec_88', 'Mel_Spec_89', 'Mel_Spec_90', 'Mel_Spec_91', 'Mel_Spec_92', 'Mel_Spec_93', 'Mel_Spec_94', 'Mel_Spec_95', 'Mel_Spec_96', 'Mel_Spec_97', 'Mel_Spec_98', 'Mel_Spec_99', 'Mel_Spec_100', 'Mel_Spec_101', 'Mel_Spec_102', 'Mel_Spec_103', 'Mel_Spec_104', 'Mel_Spec_105', 'Mel_Spec_106', 'Mel_Spec_107', 'Mel_Spec_108', 'Mel_Spec_109', 'Mel_Spec_110', 'Mel_Spec_111', 'Mel_Spec_112', 'Mel_Spec_113', 'Mel_Spec_114', 'Mel_Spec_115', 'Mel_Spec_116', 'Mel_Spec_117', 'Mel_Spec_118', 'Mel_Spec_119', 'Mel_Spec_120', 'Mel_Spec_121', 'Mel_Spec_122', 'Mel_Spec_123', 'Mel_Spec_124', 'Mel_Spec_125', 'Mel_Spec_126', 'Mel_Spec_127', 'Mel_Spec_128', 'Energy_Low', 'Energy_Mid', 'Energy_High']\n",
      "(1000, 207)\n"
     ]
    }
   ],
   "source": [
    "column_names = extractor.getColumnNames() \n",
    "column_names = column_names[:-1]\n",
    "print(len(column_names))\n",
    "#mod_column_names = column_names - 1\n",
    "print(column_names)\n",
    "# Convert to a DataFrame\n",
    "features_df = pd.DataFrame(features_data, columns=column_names)\n",
    "print(features_df.shape)"
   ]
  },
  {
   "cell_type": "code",
   "execution_count": 11,
   "metadata": {},
   "outputs": [
    {
     "name": "stdout",
     "output_type": "stream",
     "text": [
      "(1000, 206)\n",
      "(1000,)\n"
     ]
    }
   ],
   "source": [
    "#Save to excel file\n",
    "features_df.to_excel('../_03_data_gtzan_features_labels.xlsx', index=False)\n",
    "\n",
    "# Separate features and labels\n",
    "features = features_df.iloc[:, :-1].values.astype(float)  # Convert features to NumPy array (float type)\n",
    "labels = features_df.iloc[:, -1].values.astype(int) # Keep labels as strings or categories\n",
    "\n",
    "# Save to .npz file\n",
    "np.savez(\"../_03_data_gtzan_features_labels.npz\", features=features, labels=labels)\n",
    "\n",
    "# # Load the saved .npz file\n",
    "data = np.load(\"../_03_data_gtzan_features_labels.npz\")\n",
    "\n",
    "loaded_features = data[\"features\"]\n",
    "loaded_labels = data[\"labels\"]\n",
    "\n",
    "print(loaded_features.shape)\n",
    "print(loaded_labels.shape)\n",
    "\n",
    "\n"
   ]
  },
  {
   "cell_type": "code",
   "execution_count": 12,
   "metadata": {},
   "outputs": [
    {
     "name": "stdout",
     "output_type": "stream",
     "text": [
      "[[ 1.47038490e-01  8.30448207e-02  1.78415825e+03  2.00250700e+03\n",
      "   3.80580630e+03  1.60032624e+01  1.50981737e+01  1.84538119e+01\n",
      "   1.83624759e+01  1.89173460e+01  1.71897189e+01  3.86529308e+01\n",
      "   4.59859474e-03  1.04256086e-02  7.27703469e-03  1.53903708e+00\n",
      "   9.31567922e-02  0.00000000e+00 -1.01635178e+02  1.21570633e+02\n",
      "  -1.91623096e+01  4.23640709e+01 -6.36235237e+00  1.86220264e+01\n",
      "  -1.36998529e+01  1.53398647e+01 -1.22743330e+01  1.09709682e+01\n",
      "  -8.32612324e+00  8.80217648e+00 -3.66990519e+00  9.00599658e-02\n",
      "   3.42249684e-02 -3.44188735e-02  1.48575963e-03  4.49117273e-03\n",
      "  -2.42711219e-04  1.09025254e-03  3.50633892e-03 -6.86356390e-04\n",
      "  -1.40850497e-02 -2.93107051e-03  2.34774360e-03  5.68269694e-04\n",
      "  -4.37828414e-02 -1.20714260e-03  1.26538491e-02  1.19384829e-04\n",
      "   6.97699795e-03 -2.01770407e-03  1.47657993e-03 -3.47694673e-04\n",
      "   3.49167944e-03  4.18720860e-03  4.33045812e-03 -4.53790510e-03\n",
      "  -4.12202766e-03  3.62242997e-01  3.67817223e-01  4.39833969e-01\n",
      "   2.44691506e-01  2.47861907e-01  3.35616410e-01  3.64618659e-01\n",
      "   4.35683817e-01  2.95985252e-01  3.15080136e-01  4.07008439e-01\n",
      "   3.85100782e-01  1.23046875e+02  4.16077346e-02  1.87184201e-02\n",
      "   6.33696125e-03 -2.68523608e-02  1.45720637e-02 -8.33481862e-03\n",
      "   7.67273521e+00  4.01650581e+01  2.53063183e+01  1.79513168e+01\n",
      "   4.55023613e+01  2.32581844e+01  3.50444031e+01  3.25061760e+01\n",
      "   1.87895870e+01  1.68523788e+01  1.73489437e+01  7.67249298e+00\n",
      "   7.79233885e+00  1.31552315e+01  2.89923000e+01  1.80258274e+01\n",
      "   4.21044464e+01  5.83768730e+01  1.37836170e+01  1.28147240e+01\n",
      "   1.22598352e+01  2.15438251e+01  1.91725216e+01  9.02986908e+00\n",
      "   1.74382095e+01  1.97131786e+01  1.67430477e+01  7.92105007e+00\n",
      "   6.56766319e+00  7.89001179e+00  4.20541334e+00  2.89332342e+00\n",
      "   4.49450684e+00  4.72824812e+00  3.50914931e+00  4.23296213e+00\n",
      "   3.23906684e+00  5.12388563e+00  2.65873504e+00  2.02553082e+00\n",
      "   2.74298692e+00  3.52000546e+00  3.79498649e+00  7.08811188e+00\n",
      "   5.14161873e+00  2.07125211e+00  1.10673118e+00  9.85756934e-01\n",
      "   1.76027906e+00  1.20055234e+00  2.98509359e+00  2.79049873e+00\n",
      "   1.75725412e+00  6.78011596e-01  8.81131768e-01  1.24125528e+00\n",
      "   6.75332904e-01  3.23101372e-01  8.54412794e-01  2.44196892e+00\n",
      "   7.16853142e-01  1.43169928e+00  2.01076770e+00  2.58699560e+00\n",
      "   1.01886666e+00  1.17383587e+00  7.49931335e-01  2.66297728e-01\n",
      "   3.20479691e-01  1.24391747e+00  1.64861655e+00  6.43032432e-01\n",
      "   3.34647119e-01  3.99674445e-01  5.20421803e-01  5.61688185e-01\n",
      "   5.44546962e-01  3.40741962e-01  3.12023371e-01  1.72349930e-01\n",
      "   2.35224634e-01  2.22755000e-01  3.39707941e-01  2.86800623e-01\n",
      "   2.43805900e-01  1.99268073e-01  9.38454941e-02  8.41124132e-02\n",
      "   7.66981021e-02  6.86418489e-02  7.04697222e-02  7.60963336e-02\n",
      "   1.01261005e-01  9.22415629e-02  6.19348362e-02  6.13013543e-02\n",
      "   6.18526638e-02  4.81989235e-02  4.50758561e-02  4.51107733e-02\n",
      "   3.60831022e-02  3.33729498e-02  2.83840913e-02  4.16414998e-02\n",
      "   3.27421576e-02  3.14137116e-02  2.68372241e-02  2.90421024e-02\n",
      "   3.48721705e-02  2.44052596e-02  3.94395962e-02  5.58402874e-02\n",
      "   4.27384749e-02  3.47800367e-02  2.62733921e-02  1.26125431e-02\n",
      "   8.28902610e-03  6.86163874e-03  7.21068075e-03  1.34244747e-02\n",
      "   1.18071511e-02  1.95429218e-03  5.43602684e-04  1.71333319e-04\n",
      "   2.42954447e-05  2.36913343e-06  2.47388869e-07  5.89582605e-08\n",
      "   1.64626350e+01  1.52594316e+00]]\n",
      "[0]\n"
     ]
    }
   ],
   "source": [
    "# print the first row of the features and labels\n",
    "print(loaded_features[:1])\n",
    "print(loaded_labels[:1])"
   ]
  }
 ],
 "metadata": {
  "kernelspec": {
   "display_name": "base",
   "language": "python",
   "name": "python3"
  },
  "language_info": {
   "codemirror_mode": {
    "name": "ipython",
    "version": 3
   },
   "file_extension": ".py",
   "mimetype": "text/x-python",
   "name": "python",
   "nbconvert_exporter": "python",
   "pygments_lexer": "ipython3",
   "version": "3.12.7"
  }
 },
 "nbformat": 4,
 "nbformat_minor": 2
}
