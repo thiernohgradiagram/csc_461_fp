{
 "cells": [
  {
   "cell_type": "code",
   "execution_count": 1,
   "metadata": {},
   "outputs": [
    {
     "name": "stdout",
     "output_type": "stream",
     "text": [
      "repository_root_directory:\t /teamspace/studios/this_studio/csc_461_fp\n",
      "repository_root_directory:\t added to path\n"
     ]
    }
   ],
   "source": [
    "import sys\n",
    "import os\n",
    "\n",
    "repository_root_directory = os.path.dirname(os.getcwd())\n",
    "rrd = \"repository_root_directory:\\t\"\n",
    "print(rrd, repository_root_directory)\n",
    "\n",
    "if repository_root_directory not in sys.path:\n",
    "    sys.path.append(repository_root_directory)\n",
    "    print(rrd, \"added to path\")\n",
    "else:  \n",
    "    print(rrd, \"already in path\")\n",
    "\n",
    "import numpy as np\n",
    "from features_extractor import FeaturesExtractor\n",
    "import pandas as pd"
   ]
  },
  {
   "cell_type": "code",
   "execution_count": null,
   "metadata": {},
   "outputs": [],
   "source": [
    "preprocessed_dataset = \"../_02_data_preprocessed\"\n",
    "extractor = FeaturesExtractor()\n",
    "features_data = extractor.extract_features_all_files(preprocessed_dataset)\n",
    "print(features_data.shape)\n"
   ]
  },
  {
   "cell_type": "code",
   "execution_count": 4,
   "metadata": {},
   "outputs": [
    {
     "name": "stdout",
     "output_type": "stream",
     "text": [
      "222\n",
      "(1000, 222)\n"
     ]
    }
   ],
   "source": [
    "column_names = extractor.getColumnNames() \n",
    "print(len(column_names))\n",
    "\n",
    "# Convert to a DataFrame\n",
    "features_df = pd.DataFrame(features_data, columns=column_names)\n",
    "print(features_df.shape)"
   ]
  },
  {
   "cell_type": "code",
   "execution_count": 5,
   "metadata": {},
   "outputs": [
    {
     "name": "stdout",
     "output_type": "stream",
     "text": [
      "(1000, 221)\n",
      "(1000,)\n"
     ]
    }
   ],
   "source": [
    "#Save to excel file\n",
    "features_df.to_excel('../_03_data_gtzan_features_labels.xlsx', index=False)\n",
    "\n",
    "# Separate features and labels\n",
    "features = features_df.iloc[:, :-1].values.astype(float)  # Convert features to NumPy array (float type)\n",
    "labels = features_df.iloc[:, -1].values.astype(int) # Keep labels as strings or categories\n",
    "\n",
    "# Save to .npz file\n",
    "np.savez(\"../_03_data_gtzan_features_labels.npz\", features=features, labels=labels)\n",
    "\n",
    "# # Load the saved .npz file\n",
    "data = np.load(\"../_03_data_gtzan_features_labels.npz\")\n",
    "\n",
    "loaded_features = data[\"features\"]\n",
    "loaded_labels = data[\"labels\"]\n",
    "\n",
    "print(loaded_features.shape)\n",
    "print(loaded_labels.shape)\n",
    "\n",
    "\n"
   ]
  },
  {
   "cell_type": "code",
   "execution_count": null,
   "metadata": {},
   "outputs": [],
   "source": [
    "# print the first row of the features and labels\n",
    "print(loaded_features[:1])\n",
    "print(loaded_labels[:1])"
   ]
  }
 ],
 "metadata": {
  "kernelspec": {
   "display_name": "cloudspace",
   "language": "python",
   "name": "python3"
  },
  "language_info": {
   "codemirror_mode": {
    "name": "ipython",
    "version": 3
   },
   "file_extension": ".py",
   "mimetype": "text/x-python",
   "name": "python",
   "nbconvert_exporter": "python",
   "pygments_lexer": "ipython3",
   "version": "3.9.18"
  }
 },
 "nbformat": 4,
 "nbformat_minor": 2
}
