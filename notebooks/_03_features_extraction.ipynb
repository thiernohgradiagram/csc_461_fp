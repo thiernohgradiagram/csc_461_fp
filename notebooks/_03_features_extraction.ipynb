{
 "cells": [
  {
   "cell_type": "code",
   "execution_count": 1,
   "metadata": {},
   "outputs": [
    {
     "name": "stdout",
     "output_type": "stream",
     "text": [
      "repository_root_directory:\t /teamspace/studios/this_studio/csc_461_fp\n",
      "repository_root_directory:\t added to path\n"
     ]
    }
   ],
   "source": [
    "import sys\n",
    "import os\n",
    "\n",
    "repository_root_directory = os.path.dirname(os.getcwd())\n",
    "rrd = \"repository_root_directory:\\t\"\n",
    "print(rrd, repository_root_directory)\n",
    "\n",
    "if repository_root_directory not in sys.path:\n",
    "    sys.path.append(repository_root_directory)\n",
    "    print(rrd, \"added to path\")\n",
    "else:  \n",
    "    print(rrd, \"already in path\")\n",
    "\n",
    "from features_extractor import FeaturesExtractor\n",
    "import numpy as np"
   ]
  },
  {
   "cell_type": "code",
   "execution_count": 2,
   "metadata": {},
   "outputs": [
    {
     "name": "stdout",
     "output_type": "stream",
     "text": [
      "(1000, 31)\n"
     ]
    }
   ],
   "source": [
    "preprocessed_dataset = \"../_02_data_preprocessed\"\n",
    "extractor = FeaturesExtractor()\n",
    "features_df = extractor.extract_features_all_files(preprocessed_dataset)\n",
    "print(features_df.shape)\n"
   ]
  },
  {
   "cell_type": "code",
   "execution_count": 7,
   "metadata": {},
   "outputs": [
    {
     "name": "stdout",
     "output_type": "stream",
     "text": [
      "(1000, 30)\n",
      "(1000,)\n"
     ]
    }
   ],
   "source": [
    "#Save to excel file\n",
    "features_df.to_excel('../_03_data_gtzan_features_labels.xlsx', index=False)\n",
    "\n",
    "# Separate features and labels\n",
    "features = features_df.iloc[:, :-1].values.astype(float)  # Convert features to NumPy array (float type)\n",
    "labels = features_df.iloc[:, -1].values.astype(int) # Keep labels as strings or categories\n",
    "\n",
    "# Save to .npz file\n",
    "np.savez(\"../_03_data_gtzan_features_labels.npz\", features=features, labels=labels)\n",
    "\n",
    "# # Load the saved .npz file\n",
    "data = np.load(\"../_03_data_gtzan_features_labels.npz\")\n",
    "\n",
    "loaded_features = data[\"features\"]\n",
    "loaded_labels = data[\"labels\"]\n",
    "\n",
    "print(loaded_features.shape)\n",
    "print(loaded_labels.shape)\n",
    "\n",
    "\n"
   ]
  },
  {
   "cell_type": "code",
   "execution_count": 8,
   "metadata": {},
   "outputs": [
    {
     "name": "stdout",
     "output_type": "stream",
     "text": [
      "[[ 1.47038490e-01  8.30448207e-02  1.78415825e+03  2.00250700e+03\n",
      "   3.80580630e+03 -1.01635178e+02  1.21570648e+02 -1.91623096e+01\n",
      "   4.23640709e+01 -6.36235094e+00  1.86220245e+01 -1.36998529e+01\n",
      "   1.53398647e+01 -1.22743330e+01  1.09709682e+01 -8.32612324e+00\n",
      "   8.80217552e+00 -3.66990495e+00  3.62242907e-01  3.67817253e-01\n",
      "   4.39834028e-01  2.44691506e-01  2.47861907e-01  3.35616380e-01\n",
      "   3.64618599e-01  4.35683876e-01  2.95985222e-01  3.15080166e-01\n",
      "   4.07008380e-01  3.85100752e-01]]\n",
      "[0]\n"
     ]
    }
   ],
   "source": [
    "# print the first row of the features and labels\n",
    "print(loaded_features[:1])\n",
    "print(loaded_labels[:1])"
   ]
  }
 ],
 "metadata": {
  "kernelspec": {
   "display_name": "cloudspace",
   "language": "python",
   "name": "python3"
  },
  "language_info": {
   "codemirror_mode": {
    "name": "ipython",
    "version": 3
   },
   "file_extension": ".py",
   "mimetype": "text/x-python",
   "name": "python",
   "nbconvert_exporter": "python",
   "pygments_lexer": "ipython3",
   "version": "3.9.19"
  }
 },
 "nbformat": 4,
 "nbformat_minor": 2
}
