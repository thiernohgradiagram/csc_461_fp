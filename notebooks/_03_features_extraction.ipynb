{
 "cells": [
  {
   "cell_type": "code",
   "execution_count": 5,
   "metadata": {},
   "outputs": [
    {
     "name": "stdout",
     "output_type": "stream",
     "text": [
      "repository_root_directory:\t /teamspace/studios/this_studio/csc_461_fp\n",
      "repository_root_directory:\t already in path\n"
     ]
    }
   ],
   "source": [
    "import sys\n",
    "import os\n",
    "\n",
    "repository_root_directory = os.path.dirname(os.getcwd())\n",
    "rrd = \"repository_root_directory:\\t\"\n",
    "print(rrd, repository_root_directory)\n",
    "\n",
    "if repository_root_directory not in sys.path:\n",
    "    sys.path.append(repository_root_directory)\n",
    "    print(rrd, \"added to path\")\n",
    "else:  \n",
    "    print(rrd, \"already in path\")\n",
    "\n",
    "from features_extractor import FeaturesExtractor\n",
    "import numpy as np\n",
    "import pandas as pd"
   ]
  },
  {
   "cell_type": "code",
   "execution_count": 3,
   "metadata": {},
   "outputs": [
    {
     "name": "stdout",
     "output_type": "stream",
     "text": [
      "(1000, 30)\n",
      "(1000,)\n"
     ]
    }
   ],
   "source": [
    "preprocessed_dataset = \"../_02_data_preprocessed\"\n",
    "extractor = FeaturesExtractor()\n",
    "data = extractor.extract_features_all_files(preprocessed_dataset)\n",
    "features = np.array(data['features'])\n",
    "labels = np.array(data['label'])\n",
    "print(features.shape)\n",
    "print(labels.shape)"
   ]
  },
  {
   "cell_type": "code",
   "execution_count": 11,
   "metadata": {},
   "outputs": [
    {
     "name": "stdout",
     "output_type": "stream",
     "text": [
      "(1000, 30) (1000,)\n"
     ]
    }
   ],
   "source": [
    "# Convert to a Pandas DataFrame\n",
    "features_list = features.tolist()\n",
    "labels_list = labels.tolist()\n",
    "df = pd.DataFrame(features_list)\n",
    "df['label'] = labels_list\n",
    "\n",
    "# Save to CSV\n",
    "df.to_csv('../_03_data_gtzan_features.csv', index=False)\n",
    "\n",
    "# Save to excel file\n",
    "df.to_excel('../_03_data_gtzan_features.xlsx', index=False)\n",
    "\n",
    "# save to a numpy file\n",
    "np.savez(\"../_03_data_gtzan_features.npz\", features=features, labels=labels)\n",
    "\n",
    "data = np.load(\"../_03_data_gtzan_features.npz\")\n",
    "X, y = data['features'], data['labels']\n",
    "print(X.shape, y.shape)"
   ]
  }
 ],
 "metadata": {
  "kernelspec": {
   "display_name": "cloudspace",
   "language": "python",
   "name": "python3"
  },
  "language_info": {
   "codemirror_mode": {
    "name": "ipython",
    "version": 3
   },
   "file_extension": ".py",
   "mimetype": "text/x-python",
   "name": "python",
   "nbconvert_exporter": "python",
   "pygments_lexer": "ipython3",
   "version": "3.9.19"
  }
 },
 "nbformat": 4,
 "nbformat_minor": 2
}
