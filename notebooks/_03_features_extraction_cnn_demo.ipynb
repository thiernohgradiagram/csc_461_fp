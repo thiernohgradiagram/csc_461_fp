{
 "cells": [
  {
   "cell_type": "code",
   "execution_count": 1,
   "metadata": {},
   "outputs": [
    {
     "name": "stdout",
     "output_type": "stream",
     "text": [
      "repository_root_directory:\t /teamspace/studios/this_studio/csc_461_fp\n",
      "repository_root_directory:\t added to path\n"
     ]
    }
   ],
   "source": [
    "import sys\n",
    "import os\n",
    "\n",
    "repository_root_directory = os.path.dirname(os.getcwd())\n",
    "rrd = \"repository_root_directory:\\t\"\n",
    "print(rrd, repository_root_directory)\n",
    "\n",
    "if repository_root_directory not in sys.path:\n",
    "    sys.path.append(repository_root_directory)\n",
    "    print(rrd, \"added to path\")\n",
    "else:  \n",
    "    print(rrd, \"already in path\")"
   ]
  },
  {
   "cell_type": "code",
   "execution_count": 2,
   "metadata": {},
   "outputs": [],
   "source": [
    "import librosa\n",
    "from matplotlib import pyplot as plt\n",
    "from IPython.display import Audio\n",
    "from utils import get_directory_size\n",
    "import numpy as np"
   ]
  },
  {
   "cell_type": "code",
   "execution_count": 7,
   "metadata": {},
   "outputs": [
    {
     "name": "stdout",
     "output_type": "stream",
     "text": [
      "(661794,)\n",
      "22050\n",
      "[ 0.00827026  0.01873779  0.00860596 -0.00396729 -0.00256348 -0.0105896\n",
      " -0.02563477 -0.02526855 -0.03533936 -0.04891968 -0.03607178 -0.02624512\n",
      " -0.02651978 -0.01861572 -0.01083374 -0.01739502 -0.02093506 -0.01754761\n",
      " -0.03665161 -0.04949951]\n"
     ]
    }
   ],
   "source": [
    "preprocessed_dataset_directory = os.path.join(repository_root_directory, \"_02_data_preprocessed\")\n",
    "audio_file = os.path.join(preprocessed_dataset_directory, \"blues/blues.00000.wav\")\n",
    "audio_file_data, sr = librosa.load(audio_file, sr=None)\n",
    "print(audio_file_data.shape)\n",
    "print(sr)\n",
    "print(audio_file_data[:20])"
   ]
  },
  {
   "cell_type": "code",
   "execution_count": 4,
   "metadata": {},
   "outputs": [
    {
     "name": "stdout",
     "output_type": "stream",
     "text": [
      "(128, 1293)\n"
     ]
    }
   ],
   "source": [
    "mel_spectrogram = librosa.feature.melspectrogram(y=audio_file_data, sr=sr)\n",
    "print(mel_spectrogram.shape)"
   ]
  },
  {
   "cell_type": "code",
   "execution_count": 10,
   "metadata": {},
   "outputs": [
    {
     "name": "stdout",
     "output_type": "stream",
     "text": [
      "(128, 1293, 1)\n"
     ]
    }
   ],
   "source": [
    "mel_spectrogram_gray_scaled = np.expand_dims(mel_spectrogram, axis=-1)\n",
    "print(mel_spectrogram_gray_scaled.shape)"
   ]
  },
  {
   "cell_type": "code",
   "execution_count": null,
   "metadata": {},
   "outputs": [
    {
     "name": "stdout",
     "output_type": "stream",
     "text": [
      "(150, 150, 1)\n"
     ]
    }
   ],
   "source": [
    "from tensorflow.image import resize # type: ignore\n",
    "target_shape = (150, 150)\n",
    "mel_spectrogram_resized = resize(mel_spectrogram_gray_scaled, target_shape)\n",
    "print(mel_spectrogram_resized.shape)"
   ]
  },
  {
   "cell_type": "code",
   "execution_count": 16,
   "metadata": {},
   "outputs": [
    {
     "name": "stdout",
     "output_type": "stream",
     "text": [
      "Ignoring incomplete chunk from file: /teamspace/studios/this_studio/csc_461_fp/_02_data_preprocessed/jazz/jazz.00000.wav\n",
      "(14, 150, 150, 1)\n",
      "(14,)\n"
     ]
    }
   ],
   "source": [
    "from features_extractor_cnn import FeaturesExtractor\n",
    "target_shape = (150, 150)\n",
    "chunk_duration = 4\n",
    "overlap_duration = 2\n",
    "features_extractor = FeaturesExtractor(target_shape, chunk_duration, overlap_duration)\n",
    "audio_file_path = os.path.join(preprocessed_dataset_directory, \"jazz/jazz.00000.wav\")\n",
    "chunks, labels = features_extractor.extract_features_from_file(audio_file_path, 5)\n",
    "print(np.array(chunks).shape)\n",
    "print(np.array(labels).shape)"
   ]
  }
 ],
 "metadata": {
  "kernelspec": {
   "display_name": "cloudspace",
   "language": "python",
   "name": "python3"
  },
  "language_info": {
   "codemirror_mode": {
    "name": "ipython",
    "version": 3
   },
   "file_extension": ".py",
   "mimetype": "text/x-python",
   "name": "python",
   "nbconvert_exporter": "python",
   "pygments_lexer": "ipython3",
   "version": "3.10.13"
  }
 },
 "nbformat": 4,
 "nbformat_minor": 2
}
