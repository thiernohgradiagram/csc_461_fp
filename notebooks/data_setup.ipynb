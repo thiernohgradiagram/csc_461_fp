{
 "cells": [
  {
   "cell_type": "code",
   "execution_count": 4,
   "metadata": {},
   "outputs": [
    {
     "name": "stdout",
     "output_type": "stream",
     "text": [
      "repository root directory is /teamspace/studios/this_studio/csc_461_fp\n",
      "repository root directory already in path\n"
     ]
    }
   ],
   "source": [
    "import sys\n",
    "import os\n",
    "\n",
    "repository_root_directory = os.path.dirname(os.getcwd())\n",
    "print('repository root directory is', repository_root_directory)\n",
    "\n",
    "if repository_root_directory not in sys.path:\n",
    "    sys.path.append(repository_root_directory)\n",
    "    print(\"repository root directory added to path\")\n",
    "else:  \n",
    "    print(\"repository root directory already in path\")\n",
    "\n",
    "from data_manager import DataManager\n"
   ]
  },
  {
   "cell_type": "code",
   "execution_count": 5,
   "metadata": {},
   "outputs": [
    {
     "name": "stdout",
     "output_type": "stream",
     "text": [
      "Path to downloaded dataset files: /teamspace/studios/this_studio/.cache/kagglehub/datasets/carlthome/gtzan-genre-collection/versions/1\n",
      "size:  1324105955\n"
     ]
    }
   ],
   "source": [
    "data_manager = DataManager()\n",
    "dataset_name = \"carlthome/gtzan-genre-collection\"\n",
    "path_to_downloaded_dataset = data_manager.download_data(dataset_name)\n",
    "print(\"Path to downloaded dataset files:\", path_to_downloaded_dataset)\n",
    "print(\"size: \", data_manager.get_directory_size(path_to_downloaded_dataset))\n",
    "# find / -type d -name \"genres\" 2>/dev/null"
   ]
  },
  {
   "cell_type": "code",
   "execution_count": 6,
   "metadata": {},
   "outputs": [
    {
     "name": "stdout",
     "output_type": "stream",
     "text": [
      "Data already exists in the repo and matches source. Skipping copy.\n"
     ]
    }
   ],
   "source": [
    "# copy the dataset in the repository to the data folder, if necessary\n",
    "destination = os.path.join(repository_root_directory, \"data\")\n",
    "data_manager.move_data(path_to_downloaded_dataset, destination)"
   ]
  }
 ],
 "metadata": {
  "kernelspec": {
   "display_name": "cloudspace",
   "language": "python",
   "name": "python3"
  },
  "language_info": {
   "codemirror_mode": {
    "name": "ipython",
    "version": 3
   },
   "file_extension": ".py",
   "mimetype": "text/x-python",
   "name": "python",
   "nbconvert_exporter": "python",
   "pygments_lexer": "ipython3",
   "version": "3.10.15"
  }
 },
 "nbformat": 4,
 "nbformat_minor": 2
}
